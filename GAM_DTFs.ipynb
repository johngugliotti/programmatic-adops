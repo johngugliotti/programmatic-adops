{
 "cells": [
  {
   "cell_type": "code",
   "execution_count": 1,
   "id": "e9c0c6ae",
   "metadata": {},
   "outputs": [
    {
     "name": "stdout",
     "output_type": "stream",
     "text": [
      "Data Transfer Sample Files - ActiveViews.csv\r\n",
      "Data Transfer Sample Files - Activities.csv\r\n",
      "Data Transfer Sample Files - Clicks.csv\r\n",
      "Data Transfer Sample Files - CodeServes.csv\r\n",
      "Data Transfer Sample Files - Impressions.csv\r\n",
      "Data Transfer Sample Files - MinimumBidToWin.csv\r\n",
      "Data Transfer Sample Files - Requests.csv\r\n",
      "Data Transfer Sample Files - RichMediaConversions.csv\r\n",
      "Data Transfer Sample Files - VideoConversions.csv\r\n",
      "Data_Transfer_Sample_Files-Bids.csv\r\n"
     ]
    }
   ],
   "source": []
  },
  {
   "cell_type": "code",
   "execution_count": 41,
   "id": "e26454f3",
   "metadata": {},
   "outputs": [
    {
     "name": "stdout",
     "output_type": "stream",
     "text": [
      "Clicks\n",
      "RichMediaConversions\n",
      "Activities\n",
      "Requests\n",
      "CodeServes\n",
      "Impressions\n",
      "VideoConversions\n",
      "ActiveViews\n",
      "MinimumBidToWin\n",
      "Bids\n"
     ]
    }
   ],
   "source": [
    "import os, re, csv\n",
    "import networkx as nx\n",
    "G=nx.Graph()\n",
    "p='sample_data/'\n",
    "tloc = {}\n",
    "for f in os.listdir(p):\n",
    "    t=(re.findall('([A-Za-z]+)\\.csv', f))[0]\n",
    "    tloc[t] = p+f\n",
    "    print(t)\n",
    "    if t not in G: G.add_node(t,t='table')\n",
    "    fin = open(p+f,'r')\n",
    "    reader = csv.DictReader(fin)\n",
    "    h = next(reader)\n",
    "    for x in h:\n",
    "        G.add_node(x,t='field')\n",
    "        G.add_edge(t,x)\n",
    "    fin.close()\n",
    "        \n",
    "    \n",
    "    \n",
    "    "
   ]
  },
  {
   "cell_type": "code",
   "execution_count": 42,
   "id": "1be83619",
   "metadata": {},
   "outputs": [],
   "source": [
    "A = [x for x in G.nodes if G.degree(x) <= 6 and G.degree(x)>3 \n",
    "     and G.nodes[x]['t']=='field'  ]\n",
    "for a in A:\n",
    "    for x in G.neighbors(a):\n",
    "        ##print(a,x)\n",
    "        pass"
   ]
  },
  {
   "cell_type": "code",
   "execution_count": 44,
   "id": "dfb2fc7c",
   "metadata": {},
   "outputs": [
    {
     "name": "stdout",
     "output_type": "stream",
     "text": [
      "Time\n",
      "ProcessingDateAndHour\n",
      "MobileAppId\n",
      "AdUnitId\n",
      "KeyPart\n",
      "TimeUsec2\n",
      "Country\n",
      "CountryId\n"
     ]
    }
   ],
   "source": [
    "for field in G.neighbors('Bids'):\n",
    "    #print (field)\n",
    "    if 'Impressions' in G.neighbors(field) and 'Requests' in G.neighbors(field) :\n",
    "        print(field)\n",
    "        \n",
    "tables = ['Impressions', 'Impressions', 'Requests']"
   ]
  },
  {
   "cell_type": "code",
   "execution_count": null,
   "id": "cc3e17c1",
   "metadata": {},
   "outputs": [],
   "source": [
    "Impressions.AdUnitId \n",
    "Impressions.TimeUsec2 \n",
    "Impressions.Time \n",
    "Impressions.CountryId\n",
    "\n"
   ]
  },
  {
   "cell_type": "code",
   "execution_count": null,
   "id": "a72f8838",
   "metadata": {},
   "outputs": [],
   "source": []
  },
  {
   "cell_type": "code",
   "execution_count": null,
   "id": "31eac1db",
   "metadata": {},
   "outputs": [],
   "source": []
  }
 ],
 "metadata": {
  "kernelspec": {
   "display_name": "Python 3 (ipykernel)",
   "language": "python",
   "name": "python3"
  },
  "language_info": {
   "codemirror_mode": {
    "name": "ipython",
    "version": 3
   },
   "file_extension": ".py",
   "mimetype": "text/x-python",
   "name": "python",
   "nbconvert_exporter": "python",
   "pygments_lexer": "ipython3",
   "version": "3.9.7"
  }
 },
 "nbformat": 4,
 "nbformat_minor": 5
}
