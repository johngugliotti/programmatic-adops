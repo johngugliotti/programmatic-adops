{
 "cells": [
  {
   "cell_type": "code",
   "execution_count": 73,
   "id": "57e543ff",
   "metadata": {},
   "outputs": [],
   "source": [
    "import json\n",
    "\n",
    "def to_fv(C):\n",
    "\n",
    "    ont = ['A','B','C','D','E','F','G','H','I']\n",
    "    recency_weighted = {x:0 for x in ont}\n",
    "    frequency_weighted = {x:0 for x in ont}\n",
    "    \n",
    "    \n",
    "    for i in range(len(C)):\n",
    "        k = C[i]\n",
    "        recency_weighted[k]+=27-i\n",
    "        frequency_weighted[k]+=1\n",
    "    print(json.dumps(r,indent=2))\n",
    "    r_total = sum(recency_weighted.values())\n",
    "    for k in recency_weighted:\n",
    "        recency_weighted[k] = recency_weighted[k] / r_total\n",
    "        print(k, recency_weighted[k])\n",
    "    \n",
    "    f_total = sum(frequency_weighted.values())\n",
    "    for k in frequency_weighted:\n",
    "        frequency_weighted[k] = frequency_weighted[k]/f_total\n",
    "    return {\"recency\": recency_weighted, \"frequency\": frequency_weighted}\n"
   ]
  },
  {
   "cell_type": "code",
   "execution_count": 76,
   "id": "7ce3c137",
   "metadata": {},
   "outputs": [
    {
     "name": "stdout",
     "output_type": "stream",
     "text": [
      "['C', 'C', 'C', 'C', 'C', 'C', 'C', 'C', 'I', 'I', 'I', 'I', 'D', 'D', 'D', 'D', 'D', 'D', 'A', 'A', 'A', 'A', 'A', 'A', 'A', 'A']\n",
      "{\n",
      "  \"A\": 0,\n",
      "  \"B\": 0,\n",
      "  \"C\": 0,\n",
      "  \"D\": 0,\n",
      "  \"E\": 0,\n",
      "  \"F\": 0,\n",
      "  \"G\": 0,\n",
      "  \"H\": 0,\n",
      "  \"I\": 0\n",
      "}\n",
      "A 0.11671087533156499\n",
      "B 0.0\n",
      "C 0.4986737400530504\n",
      "D 0.1989389920424403\n",
      "E 0.0\n",
      "F 0.0\n",
      "G 0.0\n",
      "H 0.0\n",
      "I 0.1856763925729443\n",
      "{\n",
      "  \"recency\": {\n",
      "    \"A\": 0.11671087533156499,\n",
      "    \"B\": 0.0,\n",
      "    \"C\": 0.4986737400530504,\n",
      "    \"D\": 0.1989389920424403,\n",
      "    \"E\": 0.0,\n",
      "    \"F\": 0.0,\n",
      "    \"G\": 0.0,\n",
      "    \"H\": 0.0,\n",
      "    \"I\": 0.1856763925729443\n",
      "  },\n",
      "  \"frequency\": {\n",
      "    \"A\": 0.3076923076923077,\n",
      "    \"B\": 0.0,\n",
      "    \"C\": 0.3076923076923077,\n",
      "    \"D\": 0.23076923076923078,\n",
      "    \"E\": 0.0,\n",
      "    \"F\": 0.0,\n",
      "    \"G\": 0.0,\n",
      "    \"H\": 0.0,\n",
      "    \"I\": 0.15384615384615385\n",
      "  }\n",
      "}\n",
      "{\n",
      "  \"A\": 0,\n",
      "  \"B\": 0,\n",
      "  \"C\": 0,\n",
      "  \"D\": 0,\n",
      "  \"E\": 0,\n",
      "  \"F\": 0,\n",
      "  \"G\": 0,\n",
      "  \"H\": 0,\n",
      "  \"I\": 0\n",
      "}\n",
      "A 0.11671087533156499\n",
      "B 0.0\n",
      "C 0.4986737400530504\n",
      "D 0.1989389920424403\n",
      "E 0.0\n",
      "F 0.0\n",
      "G 0.0\n",
      "H 0.0\n",
      "I 0.1856763925729443\n"
     ]
    }
   ],
   "source": [
    "a=\"CCCCCCCCIIIIDDDDDDAAAAAAAA\"\n",
    "a=[a[i] for i in range(len(a))]\n",
    "print(a)\n",
    "\n",
    "print(json.dumps(to_fv(a),indent=2))\n",
    "X=to_fv(a)"
   ]
  },
  {
   "cell_type": "code",
   "execution_count": 84,
   "id": "b1a0bd24",
   "metadata": {},
   "outputs": [],
   "source": [
    "import numpy as np\n",
    "##np.correlate(np.array(), np.array(X.get(\"frequency\").values()))\n",
    "\n",
    "recency = list(X.get(\"recency\").values())\n",
    "frequency = list(X.get(\"frequency\").values())\n",
    "V=[]\n",
    "for i in range(len(recency)):\n",
    "    V.append([recency[i],frequency[i]])\n",
    "    \n",
    "import pandas as pd\n",
    "VD = pd.DataFrame(V)\n"
   ]
  },
  {
   "cell_type": "code",
   "execution_count": 88,
   "id": "edd36517",
   "metadata": {},
   "outputs": [
    {
     "name": "stdout",
     "output_type": "stream",
     "text": [
      "          0         1\n",
      "0  0.116711  0.307692\n",
      "1  0.000000  0.000000\n",
      "2  0.498674  0.307692\n",
      "3  0.198939  0.230769\n",
      "4  0.000000  0.000000\n",
      "5  0.000000  0.000000\n",
      "6  0.000000  0.000000\n",
      "7  0.000000  0.000000\n",
      "8  0.185676  0.153846\n"
     ]
    },
    {
     "data": {
      "text/html": [
       "<div>\n",
       "<style scoped>\n",
       "    .dataframe tbody tr th:only-of-type {\n",
       "        vertical-align: middle;\n",
       "    }\n",
       "\n",
       "    .dataframe tbody tr th {\n",
       "        vertical-align: top;\n",
       "    }\n",
       "\n",
       "    .dataframe thead th {\n",
       "        text-align: right;\n",
       "    }\n",
       "</style>\n",
       "<table border=\"1\" class=\"dataframe\">\n",
       "  <thead>\n",
       "    <tr style=\"text-align: right;\">\n",
       "      <th></th>\n",
       "      <th>0</th>\n",
       "      <th>1</th>\n",
       "    </tr>\n",
       "  </thead>\n",
       "  <tbody>\n",
       "    <tr>\n",
       "      <th>0</th>\n",
       "      <td>1.000000</td>\n",
       "      <td>0.816888</td>\n",
       "    </tr>\n",
       "    <tr>\n",
       "      <th>1</th>\n",
       "      <td>0.816888</td>\n",
       "      <td>1.000000</td>\n",
       "    </tr>\n",
       "  </tbody>\n",
       "</table>\n",
       "</div>"
      ],
      "text/plain": [
       "          0         1\n",
       "0  1.000000  0.816888\n",
       "1  0.816888  1.000000"
      ]
     },
     "execution_count": 88,
     "metadata": {},
     "output_type": "execute_result"
    }
   ],
   "source": [
    "print(VD)\n",
    "VD.corr()"
   ]
  },
  {
   "cell_type": "code",
   "execution_count": 5,
   "id": "b42f60d0",
   "metadata": {},
   "outputs": [
    {
     "name": "stdout",
     "output_type": "stream",
     "text": [
      "7.857142857142857 calc 2\n",
      "8.285714285714286 calc 3\n",
      "12.142857142857142 total\n",
      "4.0 overlap \n"
     ]
    }
   ],
   "source": [
    "from datetime import datetime\n",
    "c2s= datetime(2023,5,16)\n",
    "c2e = datetime(2023,7,10 )\n",
    "\n",
    "c3s= datetime(2023,6,12)\n",
    "c3e = datetime(2023,8,9 )\n",
    "print((c2e-c2s).days / 7, 'calc 2')\n",
    "print((c3e-c3s).days / 7, 'calc 3')\n",
    "print( (c3e - c2s).days/7, 'total')\n",
    "## 2. 5/16/23 - 7/10/23 \n",
    "## 3 6/12/23 - 8/9/23 \n",
    "print((c2e - c3s).days / 7, 'overlap ')\n",
    "## 5/30/23 - 8/9/23 "
   ]
  },
  {
   "cell_type": "code",
   "execution_count": null,
   "id": "15f233ad",
   "metadata": {},
   "outputs": [],
   "source": []
  }
 ],
 "metadata": {
  "kernelspec": {
   "display_name": "Python 3 (ipykernel)",
   "language": "python",
   "name": "python3"
  },
  "language_info": {
   "codemirror_mode": {
    "name": "ipython",
    "version": 3
   },
   "file_extension": ".py",
   "mimetype": "text/x-python",
   "name": "python",
   "nbconvert_exporter": "python",
   "pygments_lexer": "ipython3",
   "version": "3.9.7"
  }
 },
 "nbformat": 4,
 "nbformat_minor": 5
}
